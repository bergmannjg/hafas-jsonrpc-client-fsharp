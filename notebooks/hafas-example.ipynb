{
 "cells": [
  {
   "cell_type": "code",
   "execution_count": 14,
   "metadata": {},
   "outputs": [],
   "source": [
    "#r \"../.nuget/packages/fsharp.systemtextjson/0.14.8/lib/netstandard2.0/FSharp.SystemTextJson.dll\""
   ]
  },
  {
   "cell_type": "code",
   "execution_count": 15,
   "metadata": {},
   "outputs": [],
   "source": [
    "#r \"../src/bin/Debug/net5.0/HafasJsonRpcClient.dll\""
   ]
  },
  {
   "cell_type": "code",
   "execution_count": 16,
   "metadata": {},
   "outputs": [],
   "source": [
    "open HafasLibrary"
   ]
  },
  {
   "cell_type": "code",
   "execution_count": 17,
   "metadata": {},
   "outputs": [],
   "source": [
    "open Html"
   ]
  },
  {
   "cell_type": "markdown",
   "metadata": {},
   "source": [
    "Start the node process."
   ]
  },
  {
   "cell_type": "code",
   "execution_count": 18,
   "metadata": {},
   "outputs": [],
   "source": [
    "let client = startClient (HafasLibrary.Profile.Db, { defaultClientOptions with\n",
    "               script = \"../../hafas-jsonrpc-server/build/index.js\" })"
   ]
  },
  {
   "cell_type": "markdown",
   "metadata": {},
   "source": [
    "Load the uic identifiers."
   ]
  },
  {
   "cell_type": "code",
   "execution_count": 19,
   "metadata": {},
   "outputs": [],
   "source": [
    "let maybeFrom = getIdOfFirstStop (getLocations client \"Köln\" None)"
   ]
  },
  {
   "cell_type": "code",
   "execution_count": 20,
   "metadata": {},
   "outputs": [],
   "source": [
    "let maybeTo = getIdOfFirstStop (getLocations client \"Berlin\" None)"
   ]
  },
  {
   "cell_type": "markdown",
   "metadata": {},
   "source": [
    "Load the journeys."
   ]
  },
  {
   "cell_type": "code",
   "execution_count": 21,
   "metadata": {},
   "outputs": [],
   "source": [
    "let journeysOptions =\n",
    "    { defaultJourneysOptions with\n",
    "          results = Some 5\n",
    "          stopovers = Some true}"
   ]
  },
  {
   "cell_type": "code",
   "execution_count": 22,
   "metadata": {},
   "outputs": [],
   "source": [
    "let maybeJourneys =\n",
    "    match maybeFrom, maybeTo with\n",
    "    | Some from, Some ``to`` ->\n",
    "        match (getJourneys client from ``to`` (Some journeysOptions)) with\n",
    "        | Some result -> result.journeys\n",
    "        | _ -> None\n",
    "    | _ -> None"
   ]
  },
  {
   "cell_type": "markdown",
   "metadata": {},
   "source": [
    "Extract journey summaries."
   ]
  },
  {
   "cell_type": "code",
   "execution_count": 23,
   "metadata": {},
   "outputs": [
    {
     "data": {
      "text/html": [
       "<table><thead><tr><th><i>index</i></th><th>origin</th><th>departure</th><th>destination</th><th>arrival</th></tr></thead><tbody><tr><td>0</td><td>K&#246;ln Hbf</td><td>2020-09-06T17:48:00+02:00</td><td>Berlin Hbf (tief)</td><td>2020-09-06T22:18:00+02:00</td></tr><tr><td>1</td><td>K&#246;ln Hbf</td><td>2020-09-06T18:48:00+02:00</td><td>Berlin Hbf (tief)</td><td>2020-09-06T23:05:00+02:00</td></tr><tr><td>2</td><td>K&#246;ln Hbf</td><td>2020-09-06T19:48:00+02:00</td><td>Berlin Hbf (tief)</td><td>2020-09-07T00:10:00+02:00</td></tr><tr><td>3</td><td>K&#246;ln Hbf</td><td>2020-09-06T20:48:00+02:00</td><td>Berlin Hbf (tief)</td><td>2020-09-07T01:10:00+02:00</td></tr><tr><td>4</td><td>K&#246;ln Hbf</td><td>2020-09-06T22:39:00+02:00</td><td>Berlin Hbf</td><td>2020-09-07T05:36:00+02:00</td></tr></tbody></table>"
      ]
     },
     "execution_count": 23,
     "metadata": {},
     "output_type": "execute_result"
    }
   ],
   "source": [
    "match maybeJourneys with\n",
    "| Some journeys ->\n",
    "    journeys\n",
    "    |> Array.map getJourneySummary\n",
    "    |> Array.choose id\n",
    "| _ -> Array.empty"
   ]
  },
  {
   "cell_type": "code",
   "execution_count": 24,
   "metadata": {},
   "outputs": [],
   "source": [
    "let maybeFirstJourney =\n",
    "    match maybeJourneys with\n",
    "    | Some journeys -> if journeys.Length > 0 then Some journeys.[0] else None\n",
    "    | _ -> None"
   ]
  },
  {
   "cell_type": "code",
   "execution_count": 25,
   "metadata": {},
   "outputs": [],
   "source": [
    "let journeyLocations =\n",
    "    match maybeFirstJourney with\n",
    "    | Some journey -> getJourneyLocations journey\n",
    "    | None -> Array.empty"
   ]
  },
  {
   "cell_type": "code",
   "execution_count": 26,
   "metadata": {},
   "outputs": [
    {
     "data": {
      "text/html": [
       "<iframe height=\"450\" src=\"https://brouter.de/brouter-web/#map=5/51.768747/10.164044/osm-mapnik-german_style&amp;lonlats=6.959197,50.942823;6.959197,50.942823;7.150155,51.254443;7.460391,51.362727;7.80777,51.678131;8.532777,52.029421;9.741763,52.377079;10.787757,52.429495;11.854767,52.594671;13.200947,52.533787;13.368892,52.52585;13.368892,52.52585;&amp;profile=rail\" width=\"100%\"></iframe>"
      ]
     },
     "metadata": {},
     "output_type": "display_data"
    }
   ],
   "source": [
    "display(iframe [_src (BRouter.getUri journeyLocations); _width \"100%\"; _height \"450\"] [])"
   ]
  },
  {
   "cell_type": "code",
   "execution_count": null,
   "metadata": {},
   "outputs": [],
   "source": []
  },
  {
   "cell_type": "code",
   "execution_count": null,
   "metadata": {},
   "outputs": [],
   "source": []
  },
  {
   "cell_type": "code",
   "execution_count": null,
   "metadata": {},
   "outputs": [],
   "source": []
  },
  {
   "cell_type": "code",
   "execution_count": null,
   "metadata": {},
   "outputs": [],
   "source": []
  }
 ],
 "metadata": {
  "kernelspec": {
   "display_name": ".NET (F#)",
   "language": "F#",
   "name": ".net-fsharp"
  },
  "language_info": {
   "file_extension": ".fs",
   "mimetype": "text/x-fsharp",
   "name": "C#",
   "pygments_lexer": "fsharp",
   "version": "4.5"
  }
 },
 "nbformat": 4,
 "nbformat_minor": 4
}
