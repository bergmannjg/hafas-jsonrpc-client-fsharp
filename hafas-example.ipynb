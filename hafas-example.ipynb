{
 "cells": [
  {
   "cell_type": "code",
   "execution_count": 26,
   "metadata": {},
   "outputs": [],
   "source": [
    "#r \"../../.nuget/packages/fsharp.data/3.3.3/lib/netstandard2.0/FSharp.Data.dll\";;"
   ]
  },
  {
   "cell_type": "code",
   "execution_count": 27,
   "metadata": {},
   "outputs": [],
   "source": [
    "#r \"./src/bin/Debug/netstandard2.1/HafasJsonRpcClient.dll\";;"
   ]
  },
  {
   "cell_type": "code",
   "execution_count": 28,
   "metadata": {},
   "outputs": [],
   "source": [
    "open HafasLibrary"
   ]
  },
  {
   "cell_type": "markdown",
   "metadata": {},
   "source": [
    "Start the node process."
   ]
  },
  {
   "cell_type": "code",
   "execution_count": 29,
   "metadata": {},
   "outputs": [],
   "source": [
    "let client = startClient (HafasLibrary.Profile.Db, defaultClientOptions)"
   ]
  },
  {
   "cell_type": "markdown",
   "metadata": {},
   "source": [
    "Load the uic identifiers."
   ]
  },
  {
   "cell_type": "code",
   "execution_count": 30,
   "metadata": {},
   "outputs": [],
   "source": [
    "let maybeFrom = getIdOfFirstStop (getLocations client \"Bielefeld\" None)"
   ]
  },
  {
   "cell_type": "code",
   "execution_count": 31,
   "metadata": {},
   "outputs": [],
   "source": [
    "let maybeTo = getIdOfFirstStop (getLocations client \"Berlin\" None)"
   ]
  },
  {
   "cell_type": "markdown",
   "metadata": {},
   "source": [
    "Load the journeys."
   ]
  },
  {
   "cell_type": "code",
   "execution_count": 40,
   "metadata": {},
   "outputs": [],
   "source": [
    "let journeysOptions =\n",
    "    { defaultJourneysOptions with\n",
    "          results = Some 5 }"
   ]
  },
  {
   "cell_type": "code",
   "execution_count": 42,
   "metadata": {},
   "outputs": [],
   "source": [
    "let maybeJourneys =\n",
    "    match maybeFrom, maybeTo with\n",
    "    | Some from, Some ``to`` ->\n",
    "        match (getJourneys client from ``to`` (Some journeysOptions)) with\n",
    "        | Some result -> result.journeys\n",
    "        | _ -> None\n",
    "    | _ -> None"
   ]
  },
  {
   "cell_type": "markdown",
   "metadata": {},
   "source": [
    "Extract journey summaries."
   ]
  },
  {
   "cell_type": "code",
   "execution_count": 44,
   "metadata": {},
   "outputs": [
    {
     "data": {
      "text/html": [
       "<table><thead><tr><th><i>index</i></th><th>origin</th><th>departure</th><th>destination</th><th>arrival</th></tr></thead><tbody><tr><td>0</td><td>Bielefeld Hbf</td><td>2020-08-16T14:38:00+02:00</td><td>Berlin Hbf (tief)</td><td>2020-08-16T17:06:00+02:00</td></tr><tr><td>1</td><td>Bielefeld Hbf</td><td>2020-08-16T15:20:00+02:00</td><td>Berlin Hbf (tief)</td><td>2020-08-16T18:09:00+02:00</td></tr><tr><td>2</td><td>Bielefeld Hbf</td><td>2020-08-16T15:24:00+02:00</td><td>Berlin Hbf</td><td>2020-08-16T18:53:00+02:00</td></tr><tr><td>3</td><td>Bielefeld Hbf</td><td>2020-08-16T14:59:00+02:00</td><td>Berlin Hbf</td><td>2020-08-16T18:53:00+02:00</td></tr><tr><td>4</td><td>Bielefeld Hbf</td><td>2020-08-16T15:38:00+02:00</td><td>Berlin Hbf (tief)</td><td>2020-08-16T18:09:00+02:00</td></tr></tbody></table>"
      ]
     },
     "execution_count": 44,
     "metadata": {},
     "output_type": "execute_result"
    }
   ],
   "source": [
    "match maybeJourneys with\n",
    "| Some journeys ->\n",
    "    journeys\n",
    "    |> Array.map getJourneySummary\n",
    "    |> Array.choose id\n",
    "| _ -> Array.empty"
   ]
  },
  {
   "cell_type": "code",
   "execution_count": null,
   "metadata": {},
   "outputs": [],
   "source": []
  }
 ],
 "metadata": {
  "kernelspec": {
   "display_name": ".NET (F#)",
   "language": "F#",
   "name": ".net-fsharp"
  },
  "language_info": {
   "file_extension": ".fs",
   "mimetype": "text/x-fsharp",
   "name": "C#",
   "pygments_lexer": "fsharp",
   "version": "4.5"
  }
 },
 "nbformat": 4,
 "nbformat_minor": 4
}
